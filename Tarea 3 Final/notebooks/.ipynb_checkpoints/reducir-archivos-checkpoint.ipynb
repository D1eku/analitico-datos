{
 "cells": [
  {
   "cell_type": "markdown",
   "id": "0ff8fa93",
   "metadata": {},
   "source": [
    "# Genera un archivo csv nuevo con solo las filas que son en ingles"
   ]
  },
  {
   "cell_type": "code",
   "execution_count": 1,
   "id": "eb5f5246",
   "metadata": {},
   "outputs": [
    {
     "name": "stdout",
     "output_type": "stream",
     "text": [
      "Cantidad de diviciones:  23\n",
      "Total de columnas iteradas:  22000000\n",
      "Tiempo total en leer los datos:  193.2555136680603\n",
      "Tiempo total de ejecucion:  304.86002492904663\n"
     ]
    }
   ],
   "source": [
    "import pandas as pd\n",
    "from time import time\n",
    "import gc\n",
    "\n",
    "#Comienza a leer el tiempo\n",
    "cabecera = pd.read_csv('steam_reviews.csv',',',nrows=0)#Lee 1 vez el archivo obtener la cabecera\n",
    "only_english = pd.DataFrame(columns=cabecera.columns.values)#Crea un nuevo DF\n",
    "rows = 0#Cantidad de filas leidas.\n",
    "chunk_size = 1000000#Tamaño de filas a leer \n",
    "fileN = 1#Veces dividido\n",
    "for chunk in pd.read_csv('steam_reviews.csv',',',chunksize=chunk_size):\n",
    "    #chunk.to_csv('files/steam_reviews-' + str(fileN)+'.csv', index=False)#Crea un nuevo archivo con los datos leidos hasta ahora.\n",
    "    fileN +=1#Suma 1 a la cantidad de archivos creados\n",
    "    rows+=chunk_size#Suma la cantidad de filas leidas\n",
    "    only_english = only_english.append(chunk[chunk['language'] == 'english'],ignore_index = True)#Agrega al nuevo csv solo las filas en inglesh\n",
    "\n",
    "print(\"Cantidad de diviciones: \",fileN)\n",
    "print(\"Total de columnas iteradas: \",rows)\n",
    "tiempoFinal = time()\n",
    "tiempoTotal = tiempoFinal - tiempoInicial\n",
    "print(\"Tiempo total en leer los datos: \", tiempoTotal)\n",
    "only_english.to_csv('english-steam-reviews.csv',index=False)#Genera el nuevo archivo\n",
    "del [[only_english]]\n",
    "gc.collect()\n",
    "tiempoFinal = time()\n",
    "tiempoTotal = tiempoFinal - tiempoInicial\n",
    "print(\"Tiempo total de ejecucion: \", tiempoTotal)\n"
   ]
  },
  {
   "cell_type": "markdown",
   "id": "1cb1d81f",
   "metadata": {},
   "source": [
    "## Cruzamiento de los 2 dataset"
   ]
  },
  {
   "cell_type": "code",
   "execution_count": 1,
   "id": "24d06b63",
   "metadata": {},
   "outputs": [
    {
     "name": "stdout",
     "output_type": "stream",
     "text": [
      "tiempo de demora en leer los archivos:  61.190919399261475\n",
      "Cantidad de juegos que tienen Reviews =  315\n",
      "Tiempo que tomo reducir el archivo GameFeatures:  11.98086929321289\n",
      "Tiempo de escritura de nuevo GameFeaturesCSV =  0.05996847152709961\n",
      "Tiempo total de ejecucion para tratar y guardar GameFeatures =  12.04083776473999\n",
      "Cantidad de juegos disponibles en GameFeaturesFinal:  142\n",
      "Tiempo que tomo generar nuevo data frame con las reviews de los juegos que existen en game features =  372.47310996055603\n",
      "Tiempo que tomo escribir el nuevo steam reviews =  67.56201195716858\n",
      "Tiempo total de tratamiento a steam reviews =  440.0351219177246\n",
      "Tiempo total reduccion ambos archivos =  452.0769603252411\n",
      "Tiempo total de ejecucion:  513.2678797245026\n"
     ]
    }
   ],
   "source": [
    "import pandas as pd\n",
    "from time import time\n",
    "import gc\n",
    "\n",
    "\n",
    "tiempoInicialCruzamiento = time()\n",
    "\n",
    "tiempoInicialLectura = time()\n",
    "\n",
    "#carga los archivos\n",
    "gfdf = pd.read_csv('games-features.csv', delimiter=\",\")\n",
    "esrdf = pd.read_csv('english-steam-reviews.csv', delimiter=\",\")\n",
    "esrdf_columns = esrdf.columns#Obten las columnas del steamReviews\n",
    "#Printea cuanto tiempo tomo esa accion.\n",
    "tiempoFinalLectura = time() - tiempoInicialLectura\n",
    "print(\"tiempo de demora en leer los archivos: \", tiempoFinalLectura)\n",
    "\n",
    "#Empieza a contar un nuevo tiempo, de cuanto tomo reducir el gameFeatures.\n",
    "tiempoInicialReduccion = time()\n",
    "\n",
    "#Arreglo auxiliar que obtendra las id unicas de los juegos que hay en steam reviews\n",
    "idarray = list()\n",
    "#Agrega todas las id unicas de los juegos de steam reviews\n",
    "for i in esrdf['app_id']:\n",
    "    if( not (i in idarray)):#Si alguna id no esta en el arreglo de ids \n",
    "        idarray.append(i)#Agregala\n",
    "\n",
    "print(\"Cantidad de juegos que tienen Reviews = \", len(idarray))\n",
    "\n",
    "#Crea un nuevo dataframe final para el GameFeatures\n",
    "newGameFeatures = pd.DataFrame(columns=gfdf.columns)\n",
    "insertedID = []\n",
    "for i in idarray:\n",
    "    row = gfdf.query(\"ResponseID == \"+str(i))\n",
    "    newGameFeatures = newGameFeatures.append(row)\n",
    "    \n",
    "newGameFeatures = newGameFeatures.drop_duplicates(subset=['ResponseID'])\n",
    "\n",
    "#Columnas que se eliminaran\n",
    "toDelete = ['DemoCount','DeveloperCount', 'MovieCount',\n",
    "                    'PackageCount', 'PublisherCount', 'Background',\n",
    "                    'DRMNotice', 'HeaderImage', 'LegalNotice',\n",
    "                    'SupportedLanguages', 'Website', 'ExtUserAcctNotice']\n",
    "\n",
    "for to in toDelete:\n",
    "    del newGameFeatures[to]\n",
    "    \n",
    "tiempoFinalReduccion1 = time() - tiempoInicialReduccion\n",
    "print(\"Tiempo que tomo reducir el archivo GameFeatures: \", tiempoFinalReduccion1)\n",
    "\n",
    "#Crea un nuevo archivo csv y muestra cuanto tiempo tomo eso.\n",
    "tiempoInicialEscribirGameFeaturesCSV = time()\n",
    "newGameFeatures.to_csv('final-game-features.csv', index=False)#Escribe el archivo\n",
    "tiempoFinalEscribirGameFeaturesCSV = time() - tiempoInicialEscribirGameFeaturesCSV\n",
    "print(\"Tiempo de escritura de nuevo GameFeaturesCSV = \", tiempoFinalEscribirGameFeaturesCSV)\n",
    "tiempoTotalReduccionArchivoGameFeatures = time() - tiempoInicialReduccion \n",
    "print(\"Tiempo total de ejecucion para tratar y guardar GameFeatures = \", tiempoTotalReduccionArchivoGameFeatures)\n",
    "requiredID = newGameFeatures['ResponseID']#Id de los juegos que se seleccionaran en el steam reviews\n",
    "print(\"Cantidad de juegos disponibles en GameFeaturesFinal: \",len(requiredID))\n",
    "\n",
    "#Ahora trataremos el steamReviews\n",
    "tiempoInicialTratarSteamReviews = time()\n",
    "\n",
    "reviewsGameExistInFeatures = pd.DataFrame(columns=esrdf_columns)\n",
    "for id in requiredID:\n",
    "    rows = esrdf.query('app_id == '+str(id))\n",
    "    reviewsGameExistInFeatures = reviewsGameExistInFeatures.append(rows)\n",
    "    \n",
    "toDeleteReviews = ['Unnamed: 0', 'weighted_vote_score']\n",
    "for to in toDeleteReviews:\n",
    "    del reviewsGameExistInFeatures[to]\n",
    "\n",
    "#Libera la memoria.\n",
    "del [[esrdf]]\n",
    "gc.collect()\n",
    "\n",
    "tiempoFinalTratarSteamReviews = time() - tiempoInicialTratarSteamReviews\n",
    "print(\"Tiempo que tomo generar nuevo data frame con las reviews de los juegos que existen en game features = \", tiempoFinalTratarSteamReviews)\n",
    "\n",
    "\n",
    "tiempoInicialEscribirReviews = time()\n",
    "reviewsGameExistInFeatures.to_csv('final-to-analice-feelings-s-reviews.csv',index=False)\n",
    "tiempoFinalEscribirReviews = time() - tiempoInicialEscribirReviews\n",
    "print(\"Tiempo que tomo escribir el nuevo steam reviews = \", tiempoFinalEscribirReviews)\n",
    "\n",
    "tiempoFinalTotalSteamReviews = time() - tiempoInicialTratarSteamReviews\n",
    "print(\"Tiempo total de tratamiento a steam reviews = \", tiempoFinalTotalSteamReviews)\n",
    "tiempoReduccion2 = time() - tiempoInicialReduccion\n",
    "print(\"Tiempo total reduccion ambos archivos = \", tiempoReduccion2)\n",
    "tiempoFinal = time()\n",
    "tiempoTotal = tiempoFinal - tiempoInicialCruzamiento\n",
    "print(\"Tiempo total de ejecucion: \", tiempoTotal)"
   ]
  },
  {
   "cell_type": "code",
   "execution_count": null,
   "id": "51ebdd79",
   "metadata": {},
   "outputs": [],
   "source": []
  }
 ],
 "metadata": {
  "kernelspec": {
   "display_name": "Python 3",
   "language": "python",
   "name": "python3"
  },
  "language_info": {
   "codemirror_mode": {
    "name": "ipython",
    "version": 3
   },
   "file_extension": ".py",
   "mimetype": "text/x-python",
   "name": "python",
   "nbconvert_exporter": "python",
   "pygments_lexer": "ipython3",
   "version": "3.9.1"
  }
 },
 "nbformat": 4,
 "nbformat_minor": 5
}

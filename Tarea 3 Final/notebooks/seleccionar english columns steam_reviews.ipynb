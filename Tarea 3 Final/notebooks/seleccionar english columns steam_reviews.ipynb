{
 "cells": [
  {
   "cell_type": "markdown",
   "id": "0ff8fa93",
   "metadata": {},
   "source": [
    "# Genera un archivo csv nuevo con solo las filas que son en ingles"
   ]
  },
  {
   "cell_type": "code",
   "execution_count": 1,
   "id": "eb5f5246",
   "metadata": {},
   "outputs": [
    {
     "name": "stdout",
     "output_type": "stream",
     "text": [
      "Cantidad de diviciones:  23\n",
      "Total de columnas iteradas:  22000000\n",
      "Tiempo total en leer los datos:  193.2555136680603\n",
      "Tiempo total de ejecucion:  304.86002492904663\n"
     ]
    }
   ],
   "source": [
    "import pandas as pd\n",
    "from time import time\n",
    "\n",
    "tiempoInicial = time()#Comienza a leer el tiempo\n",
    "cabecera = pd.read_csv('steam_reviews.csv',',',nrows=0)#Lee 1 vez el archivo obtener la cabecera\n",
    "only_english = pd.DataFrame(columns=cabecera.columns.values)#Crea un nuevo DF\n",
    "rows = 0#Cantidad de filas leidas.\n",
    "chunk_size = 1000000#Tamaño de filas a leer \n",
    "fileN = 1#Veces dividido\n",
    "for chunk in pd.read_csv('steam_reviews.csv',',',chunksize=chunk_size):\n",
    "    #chunk.to_csv('files/steam_reviews-' + str(fileN)+'.csv', index=False)#Crea un nuevo archivo con los datos leidos hasta ahora.\n",
    "    fileN +=1#Suma 1 a la cantidad de archivos creados\n",
    "    rows+=chunk_size#Suma la cantidad de filas leidas\n",
    "    only_english = only_english.append(chunk[chunk['language'] == 'english'],ignore_index = True)#Agrega al nuevo csv solo las filas en inglesh\n",
    "\n",
    "print(\"Cantidad de diviciones: \",fileN)\n",
    "print(\"Total de columnas iteradas: \",rows)\n",
    "tiempoFinal = time()\n",
    "tiempoTotal = tiempoFinal - tiempoInicial\n",
    "print(\"Tiempo total en leer los datos: \", tiempoTotal)\n",
    "only_english.to_csv('english-steam-reviews.csv',index=False)#Genera el nuevo archivo\n",
    "tiempoFinal = time()\n",
    "tiempoTotal = tiempoFinal - tiempoInicial\n",
    "print(\"Tiempo total de ejecucion: \", tiempoTotal)\n"
   ]
  },
  {
   "cell_type": "code",
   "execution_count": null,
   "id": "f127b1df",
   "metadata": {},
   "outputs": [],
   "source": []
  }
 ],
 "metadata": {
  "kernelspec": {
   "display_name": "Python 3",
   "language": "python",
   "name": "python3"
  },
  "language_info": {
   "codemirror_mode": {
    "name": "ipython",
    "version": 3
   },
   "file_extension": ".py",
   "mimetype": "text/x-python",
   "name": "python",
   "nbconvert_exporter": "python",
   "pygments_lexer": "ipython3",
   "version": "3.9.1"
  }
 },
 "nbformat": 4,
 "nbformat_minor": 5
}

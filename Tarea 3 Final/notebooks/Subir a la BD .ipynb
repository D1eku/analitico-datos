{
 "cells": [
  {
   "cell_type": "markdown",
   "id": "5b2ea988",
   "metadata": {},
   "source": [
    "# Subir a la bd"
   ]
  },
  {
   "cell_type": "code",
   "execution_count": 1,
   "id": "102957d0",
   "metadata": {},
   "outputs": [],
   "source": [
    "import pandas as pd\n",
    "\n",
    "gameFeatures = pd.read_csv('final-game-features.csv', delimiter=\",\")\n",
    "#steamReviews = pd.read_csv('final-to-analice-feelings-s-reviews.csv', delimiter=\",\")\n"
   ]
  },
  {
   "cell_type": "code",
   "execution_count": null,
   "id": "8ed4f98b",
   "metadata": {},
   "outputs": [],
   "source": [
    "steamReviews.columns"
   ]
  },
  {
   "cell_type": "code",
   "execution_count": 1,
   "id": "b706f53c",
   "metadata": {},
   "outputs": [],
   "source": [
    "# Separa las tablas"
   ]
  },
  {
   "cell_type": "code",
   "execution_count": null,
   "id": "6c6a1821",
   "metadata": {},
   "outputs": [],
   "source": [
    "review_fact = steamReviews['review_id']\n",
    "review_fact"
   ]
  },
  {
   "cell_type": "code",
   "execution_count": null,
   "id": "a52d0dce",
   "metadata": {},
   "outputs": [],
   "source": [
    "# Crea la BD"
   ]
  },
  {
   "cell_type": "code",
   "execution_count": 7,
   "id": "6415df5b",
   "metadata": {},
   "outputs": [],
   "source": [
    "\n",
    "#Subiendo a la base de datos\n",
    "import sqlalchemy as sa\n",
    "from sqlalchemy.ext import declarative\n",
    "from uuid import uuid4\n",
    "from psycopg2.extensions import ISOLATION_LEVEL_AUTOCOMMIT\n",
    "\n",
    "conn = pg.connect(host='localhost', user='postgres', password='postgres')  \n",
    "conn.set_isolation_level(ISOLATION_LEVEL_AUTOCOMMIT)\n",
    "cur = conn.cursor()\n",
    "cur.execute(\"select exists (select * from pg_catalog.pg_database WHERE datname = 'etl3');\")\n",
    "existe = cur.fetchone()[0]\n",
    "\n",
    "if(bool(existe)):#Si existe la base de datos eliminala\n",
    "        cur.execute(\"commit\")\n",
    "        cur.execute(\"\"\"SELECT\n",
    "                            pg_terminate_backend (pg_stat_activity.pid)\n",
    "                        FROM\n",
    "                            pg_stat_activity\n",
    "                        WHERE\n",
    "                            pg_stat_activity.datname = 'etl3';\n",
    "                    \"\"\")#Desconecta a los clientes\n",
    "        cur.execute('drop database supermarket2')#Elimina la database\n",
    "        \n",
    "    #Crea la base de datos\n",
    "#Crea la base de datos\n",
    "\n",
    "cur.execute('create database etl3')\n",
    "conn.close()"
   ]
  },
  {
   "cell_type": "code",
   "execution_count": null,
   "id": "24d53eb4",
   "metadata": {},
   "outputs": [],
   "source": [
    "# Crea las tablas de la BD"
   ]
  },
  {
   "cell_type": "code",
   "execution_count": null,
   "id": "073b2e8a",
   "metadata": {},
   "outputs": [],
   "source": [
    "gameFeatures = pd.read_csv('final-game-features.csv', delimiter=\",\")\n",
    "gameFeatures"
   ]
  },
  {
   "cell_type": "markdown",
   "id": "c47ad30d",
   "metadata": {},
   "source": []
  },
  {
   "cell_type": "code",
   "execution_count": null,
   "id": "a48af117",
   "metadata": {},
   "outputs": [],
   "source": []
  },
  {
   "cell_type": "code",
   "execution_count": null,
   "id": "7d0c1b73",
   "metadata": {},
   "outputs": [],
   "source": []
  }
 ],
 "metadata": {
  "kernelspec": {
   "display_name": "Python 3",
   "language": "python",
   "name": "python3"
  },
  "language_info": {
   "codemirror_mode": {
    "name": "ipython",
    "version": 3
   },
   "file_extension": ".py",
   "mimetype": "text/x-python",
   "name": "python",
   "nbconvert_exporter": "python",
   "pygments_lexer": "ipython3",
   "version": "3.9.1"
  }
 },
 "nbformat": 4,
 "nbformat_minor": 5
}
